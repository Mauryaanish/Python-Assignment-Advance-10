{
  "nbformat": 4,
  "nbformat_minor": 0,
  "metadata": {
    "colab": {
      "provenance": []
    },
    "kernelspec": {
      "name": "python3",
      "display_name": "Python 3"
    },
    "language_info": {
      "name": "python"
    }
  },
  "cells": [
    {
      "cell_type": "markdown",
      "source": [
        "## Q1. Q1. What is the difference between __getattr__ and __getattribute__?\n",
        "\n",
        "Answer:- __getattribute__ has a default implementation, but __getattr__ does not. This has a clear meaning: since __getattribute__ has a default implementation, while __getattr__ not, clearly python encourages users to implement __getattr__"
      ],
      "metadata": {
        "id": "1cEKI8JkGIVf"
      }
    },
    {
      "cell_type": "code",
      "source": [],
      "metadata": {
        "id": "E2QTsPf_HYOf"
      },
      "execution_count": null,
      "outputs": []
    },
    {
      "cell_type": "markdown",
      "source": [
        "## Q2. What is the difference between properties and descriptors?\n",
        "\n",
        "Answer:- Attributes are described by data variables for example like name, age, height etc. Properties are special kind of attributes which have getter, setter and delete methods like __get__, __set__ and __delete__ methods. "
      ],
      "metadata": {
        "id": "LKcEfe6jHZkd"
      }
    },
    {
      "cell_type": "code",
      "source": [],
      "metadata": {
        "id": "2y0m-le2Hzof"
      },
      "execution_count": null,
      "outputs": []
    },
    {
      "cell_type": "markdown",
      "source": [
        "## Q3. What are the key differences in functionality between __getattr__ and __getattribute__, as well as\n",
        "properties and descriptors?\n",
        "\n",
        "Answer:- So, the difference between __getattribute__() and __getattr__() is that the first one is called unconditionally when an attribute is being retrieved from an instance while the second is called only when the attribute was not found."
      ],
      "metadata": {
        "id": "QWRESaoRH0eh"
      }
    },
    {
      "cell_type": "code",
      "source": [],
      "metadata": {
        "id": "R404Lq76IEko"
      },
      "execution_count": null,
      "outputs": []
    }
  ]
}